{
 "cells": [
  {
   "cell_type": "raw",
   "metadata": {},
   "source": []
  },
  {
   "cell_type": "markdown",
   "metadata": {},
   "source": [
    "# What is the most desirable technology stack in 2020?\n"
   ]
  },
  {
   "cell_type": "markdown",
   "metadata": {},
   "source": [
    "### Business Understanding\n",
    "\n",
    "If you are a seasoned software developer or a newbee who just want to be a software developer, you may want to know answers to the questions like: \n",
    "What are the most preferred programming language to learn in 2020?\n",
    "What are the most preferred database to learn in 2020?\n",
    "What are the most preferred Web Framework to learn in 2020?\n",
    "What are the most preferred other miscellenous technologies to learn in 2020?\n",
    "\n",
    "To answer these questions, I used data from Stackoverflow's 2019 Annual Developer Survey. The survey data covers 88,863 reviews from 213 countries and territories. The survey aims to understand multiple aspects of jobs related to software development and data analytics.\n",
    " "
   ]
  },
  {
   "cell_type": "markdown",
   "metadata": {},
   "source": [
    "### Data Understanding\n",
    "\n",
    "To get started, let's read in the necessary libraries we will need to wrangle our data: pandas and numpy. If we decided to build some basic plots, matplotlib might prove useful as well."
   ]
  },
  {
   "cell_type": "code",
   "execution_count": 23,
   "metadata": {},
   "outputs": [
    {
     "data": {
      "text/html": [
       "<div>\n",
       "<style scoped>\n",
       "    .dataframe tbody tr th:only-of-type {\n",
       "        vertical-align: middle;\n",
       "    }\n",
       "\n",
       "    .dataframe tbody tr th {\n",
       "        vertical-align: top;\n",
       "    }\n",
       "\n",
       "    .dataframe thead th {\n",
       "        text-align: right;\n",
       "    }\n",
       "</style>\n",
       "<table border=\"1\" class=\"dataframe\">\n",
       "  <thead>\n",
       "    <tr style=\"text-align: right;\">\n",
       "      <th></th>\n",
       "      <th>Respondent</th>\n",
       "      <th>MainBranch</th>\n",
       "      <th>Hobbyist</th>\n",
       "      <th>OpenSourcer</th>\n",
       "      <th>OpenSource</th>\n",
       "      <th>Employment</th>\n",
       "      <th>Country</th>\n",
       "      <th>Student</th>\n",
       "      <th>EdLevel</th>\n",
       "      <th>UndergradMajor</th>\n",
       "      <th>...</th>\n",
       "      <th>WelcomeChange</th>\n",
       "      <th>SONewContent</th>\n",
       "      <th>Age</th>\n",
       "      <th>Gender</th>\n",
       "      <th>Trans</th>\n",
       "      <th>Sexuality</th>\n",
       "      <th>Ethnicity</th>\n",
       "      <th>Dependents</th>\n",
       "      <th>SurveyLength</th>\n",
       "      <th>SurveyEase</th>\n",
       "    </tr>\n",
       "  </thead>\n",
       "  <tbody>\n",
       "    <tr>\n",
       "      <th>0</th>\n",
       "      <td>1</td>\n",
       "      <td>I am a student who is learning to code</td>\n",
       "      <td>Yes</td>\n",
       "      <td>Never</td>\n",
       "      <td>The quality of OSS and closed source software ...</td>\n",
       "      <td>Not employed, and not looking for work</td>\n",
       "      <td>United Kingdom</td>\n",
       "      <td>No</td>\n",
       "      <td>Primary/elementary school</td>\n",
       "      <td>NaN</td>\n",
       "      <td>...</td>\n",
       "      <td>Just as welcome now as I felt last year</td>\n",
       "      <td>Tech articles written by other developers;Indu...</td>\n",
       "      <td>14.0</td>\n",
       "      <td>Man</td>\n",
       "      <td>No</td>\n",
       "      <td>Straight / Heterosexual</td>\n",
       "      <td>NaN</td>\n",
       "      <td>No</td>\n",
       "      <td>Appropriate in length</td>\n",
       "      <td>Neither easy nor difficult</td>\n",
       "    </tr>\n",
       "    <tr>\n",
       "      <th>1</th>\n",
       "      <td>2</td>\n",
       "      <td>I am a student who is learning to code</td>\n",
       "      <td>No</td>\n",
       "      <td>Less than once per year</td>\n",
       "      <td>The quality of OSS and closed source software ...</td>\n",
       "      <td>Not employed, but looking for work</td>\n",
       "      <td>Bosnia and Herzegovina</td>\n",
       "      <td>Yes, full-time</td>\n",
       "      <td>Secondary school (e.g. American high school, G...</td>\n",
       "      <td>NaN</td>\n",
       "      <td>...</td>\n",
       "      <td>Just as welcome now as I felt last year</td>\n",
       "      <td>Tech articles written by other developers;Indu...</td>\n",
       "      <td>19.0</td>\n",
       "      <td>Man</td>\n",
       "      <td>No</td>\n",
       "      <td>Straight / Heterosexual</td>\n",
       "      <td>NaN</td>\n",
       "      <td>No</td>\n",
       "      <td>Appropriate in length</td>\n",
       "      <td>Neither easy nor difficult</td>\n",
       "    </tr>\n",
       "    <tr>\n",
       "      <th>2</th>\n",
       "      <td>3</td>\n",
       "      <td>I am not primarily a developer, but I write co...</td>\n",
       "      <td>Yes</td>\n",
       "      <td>Never</td>\n",
       "      <td>The quality of OSS and closed source software ...</td>\n",
       "      <td>Employed full-time</td>\n",
       "      <td>Thailand</td>\n",
       "      <td>No</td>\n",
       "      <td>Bachelor’s degree (BA, BS, B.Eng., etc.)</td>\n",
       "      <td>Web development or web design</td>\n",
       "      <td>...</td>\n",
       "      <td>Just as welcome now as I felt last year</td>\n",
       "      <td>Tech meetups or events in your area;Courses on...</td>\n",
       "      <td>28.0</td>\n",
       "      <td>Man</td>\n",
       "      <td>No</td>\n",
       "      <td>Straight / Heterosexual</td>\n",
       "      <td>NaN</td>\n",
       "      <td>Yes</td>\n",
       "      <td>Appropriate in length</td>\n",
       "      <td>Neither easy nor difficult</td>\n",
       "    </tr>\n",
       "    <tr>\n",
       "      <th>3</th>\n",
       "      <td>4</td>\n",
       "      <td>I am a developer by profession</td>\n",
       "      <td>No</td>\n",
       "      <td>Never</td>\n",
       "      <td>The quality of OSS and closed source software ...</td>\n",
       "      <td>Employed full-time</td>\n",
       "      <td>United States</td>\n",
       "      <td>No</td>\n",
       "      <td>Bachelor’s degree (BA, BS, B.Eng., etc.)</td>\n",
       "      <td>Computer science, computer engineering, or sof...</td>\n",
       "      <td>...</td>\n",
       "      <td>Just as welcome now as I felt last year</td>\n",
       "      <td>Tech articles written by other developers;Indu...</td>\n",
       "      <td>22.0</td>\n",
       "      <td>Man</td>\n",
       "      <td>No</td>\n",
       "      <td>Straight / Heterosexual</td>\n",
       "      <td>White or of European descent</td>\n",
       "      <td>No</td>\n",
       "      <td>Appropriate in length</td>\n",
       "      <td>Easy</td>\n",
       "    </tr>\n",
       "    <tr>\n",
       "      <th>4</th>\n",
       "      <td>5</td>\n",
       "      <td>I am a developer by profession</td>\n",
       "      <td>Yes</td>\n",
       "      <td>Once a month or more often</td>\n",
       "      <td>OSS is, on average, of HIGHER quality than pro...</td>\n",
       "      <td>Employed full-time</td>\n",
       "      <td>Ukraine</td>\n",
       "      <td>No</td>\n",
       "      <td>Bachelor’s degree (BA, BS, B.Eng., etc.)</td>\n",
       "      <td>Computer science, computer engineering, or sof...</td>\n",
       "      <td>...</td>\n",
       "      <td>Just as welcome now as I felt last year</td>\n",
       "      <td>Tech meetups or events in your area;Courses on...</td>\n",
       "      <td>30.0</td>\n",
       "      <td>Man</td>\n",
       "      <td>No</td>\n",
       "      <td>Straight / Heterosexual</td>\n",
       "      <td>White or of European descent;Multiracial</td>\n",
       "      <td>No</td>\n",
       "      <td>Appropriate in length</td>\n",
       "      <td>Easy</td>\n",
       "    </tr>\n",
       "  </tbody>\n",
       "</table>\n",
       "<p>5 rows × 85 columns</p>\n",
       "</div>"
      ],
      "text/plain": [
       "   Respondent                                         MainBranch Hobbyist  \\\n",
       "0           1             I am a student who is learning to code      Yes   \n",
       "1           2             I am a student who is learning to code       No   \n",
       "2           3  I am not primarily a developer, but I write co...      Yes   \n",
       "3           4                     I am a developer by profession       No   \n",
       "4           5                     I am a developer by profession      Yes   \n",
       "\n",
       "                  OpenSourcer  \\\n",
       "0                       Never   \n",
       "1     Less than once per year   \n",
       "2                       Never   \n",
       "3                       Never   \n",
       "4  Once a month or more often   \n",
       "\n",
       "                                          OpenSource  \\\n",
       "0  The quality of OSS and closed source software ...   \n",
       "1  The quality of OSS and closed source software ...   \n",
       "2  The quality of OSS and closed source software ...   \n",
       "3  The quality of OSS and closed source software ...   \n",
       "4  OSS is, on average, of HIGHER quality than pro...   \n",
       "\n",
       "                               Employment                 Country  \\\n",
       "0  Not employed, and not looking for work          United Kingdom   \n",
       "1      Not employed, but looking for work  Bosnia and Herzegovina   \n",
       "2                      Employed full-time                Thailand   \n",
       "3                      Employed full-time           United States   \n",
       "4                      Employed full-time                 Ukraine   \n",
       "\n",
       "          Student                                            EdLevel  \\\n",
       "0              No                          Primary/elementary school   \n",
       "1  Yes, full-time  Secondary school (e.g. American high school, G...   \n",
       "2              No           Bachelor’s degree (BA, BS, B.Eng., etc.)   \n",
       "3              No           Bachelor’s degree (BA, BS, B.Eng., etc.)   \n",
       "4              No           Bachelor’s degree (BA, BS, B.Eng., etc.)   \n",
       "\n",
       "                                      UndergradMajor  ...  \\\n",
       "0                                                NaN  ...   \n",
       "1                                                NaN  ...   \n",
       "2                      Web development or web design  ...   \n",
       "3  Computer science, computer engineering, or sof...  ...   \n",
       "4  Computer science, computer engineering, or sof...  ...   \n",
       "\n",
       "                             WelcomeChange  \\\n",
       "0  Just as welcome now as I felt last year   \n",
       "1  Just as welcome now as I felt last year   \n",
       "2  Just as welcome now as I felt last year   \n",
       "3  Just as welcome now as I felt last year   \n",
       "4  Just as welcome now as I felt last year   \n",
       "\n",
       "                                        SONewContent   Age Gender Trans  \\\n",
       "0  Tech articles written by other developers;Indu...  14.0    Man    No   \n",
       "1  Tech articles written by other developers;Indu...  19.0    Man    No   \n",
       "2  Tech meetups or events in your area;Courses on...  28.0    Man    No   \n",
       "3  Tech articles written by other developers;Indu...  22.0    Man    No   \n",
       "4  Tech meetups or events in your area;Courses on...  30.0    Man    No   \n",
       "\n",
       "                 Sexuality                                 Ethnicity  \\\n",
       "0  Straight / Heterosexual                                       NaN   \n",
       "1  Straight / Heterosexual                                       NaN   \n",
       "2  Straight / Heterosexual                                       NaN   \n",
       "3  Straight / Heterosexual              White or of European descent   \n",
       "4  Straight / Heterosexual  White or of European descent;Multiracial   \n",
       "\n",
       "  Dependents           SurveyLength                  SurveyEase  \n",
       "0         No  Appropriate in length  Neither easy nor difficult  \n",
       "1         No  Appropriate in length  Neither easy nor difficult  \n",
       "2        Yes  Appropriate in length  Neither easy nor difficult  \n",
       "3         No  Appropriate in length                        Easy  \n",
       "4         No  Appropriate in length                        Easy  \n",
       "\n",
       "[5 rows x 85 columns]"
      ]
     },
     "execution_count": 23,
     "metadata": {},
     "output_type": "execute_result"
    }
   ],
   "source": [
    "import numpy as np\n",
    "import pandas as pd\n",
    "import matplotlib.pyplot as plt\n",
    "from sklearn.linear_model import LinearRegression\n",
    "from sklearn.model_selection import train_test_split\n",
    "from sklearn.metrics import r2_score, mean_squared_error\n",
    "import seaborn as sns\n",
    "%matplotlib inline\n",
    "from collections import defaultdict\n",
    "import matplotlib.pyplot as plt\n",
    "\n",
    "df = pd.read_csv('./survey_results_public_2019.csv')\n",
    "df.head()"
   ]
  },
  {
   "cell_type": "markdown",
   "metadata": {},
   "source": [
    "Let's focus on our first question: \n",
    "What are the most preferred programming language to learn in 2020? To answer this question we will review the field \n",
    "LanguageDesireNextYear in the dataframe. Let's look into the column more closely."
   ]
  },
  {
   "cell_type": "code",
   "execution_count": 24,
   "metadata": {},
   "outputs": [
    {
     "data": {
      "text/plain": [
       "180"
      ]
     },
     "execution_count": 24,
     "metadata": {},
     "output_type": "execute_result"
    }
   ],
   "source": [
    "len(df.Country.unique())"
   ]
  },
  {
   "cell_type": "code",
   "execution_count": 25,
   "metadata": {},
   "outputs": [
    {
     "data": {
      "text/plain": [
       "Python                                                                                                                               1236\n",
       "HTML/CSS;JavaScript                                                                                                                   697\n",
       "HTML/CSS;JavaScript;TypeScript                                                                                                        648\n",
       "C#                                                                                                                                    607\n",
       "Java                                                                                                                                  584\n",
       "C#;HTML/CSS;JavaScript;SQL                                                                                                            572\n",
       "C#;HTML/CSS;JavaScript;SQL;TypeScript                                                                                                 568\n",
       "HTML/CSS;JavaScript;PHP;SQL                                                                                                           548\n",
       "Go                                                                                                                                    420\n",
       "HTML/CSS;JavaScript;Python                                                                                                            399\n",
       "Swift                                                                                                                                 397\n",
       "HTML/CSS;JavaScript;PHP                                                                                                               374\n",
       "C++;Python                                                                                                                            371\n",
       "JavaScript                                                                                                                            370\n",
       "Kotlin                                                                                                                                368\n",
       "C++                                                                                                                                   360\n",
       "Other(s):                                                                                                                             347\n",
       "C#;SQL                                                                                                                                333\n",
       "Java;Kotlin                                                                                                                           314\n",
       "C#;HTML/CSS;JavaScript;TypeScript                                                                                                     312\n",
       "JavaScript;Python                                                                                                                     306\n",
       "Go;Python                                                                                                                             293\n",
       "Java;Python                                                                                                                           285\n",
       "Python;SQL                                                                                                                            265\n",
       "HTML/CSS;JavaScript;Python;SQL                                                                                                        254\n",
       "TypeScript                                                                                                                            249\n",
       "HTML/CSS;JavaScript;PHP;Python;SQL                                                                                                    243\n",
       "HTML/CSS;Java;JavaScript;SQL                                                                                                          241\n",
       "Python;R                                                                                                                              239\n",
       "Java;SQL                                                                                                                              226\n",
       "                                                                                                                                     ... \n",
       "Elixir;JavaScript;Ruby;Swift                                                                                                            1\n",
       "Elixir;Erlang;HTML/CSS;Ruby;SQL;Other(s):                                                                                               1\n",
       "C;C++;C#;Go;JavaScript;Rust;TypeScript                                                                                                  1\n",
       "C#;F#;HTML/CSS;JavaScript;Scala;SQL                                                                                                     1\n",
       "Assembly;C#;Go;JavaScript;Kotlin;Rust;Swift;TypeScript;WebAssembly                                                                      1\n",
       "Go;HTML/CSS;PHP;Python;SQL;Swift;TypeScript;WebAssembly                                                                                 1\n",
       "Bash/Shell/PowerShell;HTML/CSS;Java;JavaScript;Kotlin;PHP;Python;Other(s):                                                              1\n",
       "Go;Java;JavaScript;Python;R;Scala                                                                                                       1\n",
       "Bash/Shell/PowerShell;C++;Dart;HTML/CSS;Java;JavaScript;Objective-C;Python;SQL;TypeScript                                               1\n",
       "Bash/Shell/PowerShell;C++;C#;HTML/CSS;Java;JavaScript;Python;SQL;Swift;VBA                                                              1\n",
       "Assembly;Bash/Shell/PowerShell;C;C++;C#;Dart;Go;Java;JavaScript;Kotlin;Objective-C;PHP;Python;Ruby;Scala;SQL;TypeScript;Other(s):       1\n",
       "C#;Dart;Elixir;HTML/CSS;Java;JavaScript;Kotlin;Python;SQL;TypeScript                                                                    1\n",
       "Bash/Shell/PowerShell;JavaScript;R;Rust;Scala;SQL;TypeScript                                                                            1\n",
       "HTML/CSS;Objective-C;Python;Swift                                                                                                       1\n",
       "C++;Go;JavaScript;Kotlin;Ruby                                                                                                           1\n",
       "Go;Python;Scala;SQL;TypeScript                                                                                                          1\n",
       "C++;HTML/CSS;Java;JavaScript;Python;SQL;Swift;TypeScript                                                                                1\n",
       "Dart;Go;Java;JavaScript;PHP;SQL                                                                                                         1\n",
       "C;Go;HTML/CSS;Java;JavaScript;Kotlin;Python;TypeScript                                                                                  1\n",
       "C;C++;F#;Python;R;Ruby;Scala;Other(s):                                                                                                  1\n",
       "C;C++;C#;Dart;Go;HTML/CSS;JavaScript;Python;SQL                                                                                         1\n",
       "Assembly;Bash/Shell/PowerShell;C;C++;C#;Clojure;Dart;Elixir;Erlang;F#;Go;JavaScript;Objective-C;PHP                                     1\n",
       "Bash/Shell/PowerShell;HTML/CSS;Java;JavaScript;PHP;Python;Rust;SQL;VBA                                                                  1\n",
       "C++;Java;JavaScript;Python;Ruby;SQL;Swift;TypeScript                                                                                    1\n",
       "Clojure;Go;HTML/CSS;Java;Python;Rust;Scala                                                                                              1\n",
       "Bash/Shell/PowerShell;C;C++;HTML/CSS;JavaScript;SQL;TypeScript                                                                          1\n",
       "Bash/Shell/PowerShell;C#;Go;HTML/CSS;JavaScript;PHP;SQL;TypeScript                                                                      1\n",
       "Elixir;Erlang;Rust;Scala;Other(s):                                                                                                      1\n",
       "Bash/Shell/PowerShell;C++;Go;HTML/CSS;JavaScript;PHP;Python;R;SQL                                                                       1\n",
       "Bash/Shell/PowerShell;C;HTML/CSS;PHP;SQL;Other(s):                                                                                      1\n",
       "Name: LanguageDesireNextYear, Length: 27259, dtype: int64"
      ]
     },
     "execution_count": 25,
     "metadata": {},
     "output_type": "execute_result"
    }
   ],
   "source": [
    "df.LanguageDesireNextYear.value_counts()"
   ]
  },
  {
   "cell_type": "code",
   "execution_count": 26,
   "metadata": {},
   "outputs": [],
   "source": [
    "# This isn't what I was expecting, it is grouping programming languages together \n",
    "# So one row has more than just one answer.  I write a function to clean it up. \n",
    "# Following function will create a dictionary with all programming languages and counts. \n",
    "# We can use the dictionary to get TOP languages and also do some data visualizations. \n",
    "\n",
    "def create_dict_from_col(schema, column):\n",
    "    '''\n",
    "    INPUT \n",
    "        schema - a dataframe schema name\n",
    "        column - column name with ';' seperator     \n",
    "    OUTPUT\n",
    "        desired_lang_dict - a dictionary with list of category names and their counts\n",
    "    '''\n",
    "    df_new = schema[schema[column].notnull()] # Remove NaN records\n",
    "    desired_lang_dict = {} # Initialize the dict\n",
    "    # Populate the dict\n",
    "    for row in df_new[column].to_list():\n",
    "        languages = row.split(';')\n",
    "        for each_lang in languages:\n",
    "            if each_lang in desired_lang_dict:\n",
    "                desired_lang_dict[each_lang] += 1\n",
    "            else:\n",
    "                desired_lang_dict[each_lang] = 1\n",
    "    return desired_lang_dict"
   ]
  },
  {
   "cell_type": "code",
   "execution_count": 27,
   "metadata": {},
   "outputs": [],
   "source": [
    "# This is a short utility function we can use to get TOP N categories \n",
    "def get_dict_topvals(dict, top_n,is_reverse):\n",
    "    return sorted(dict.items(), key=lambda x: x[1], reverse = is_reverse)[:top_n] "
   ]
  },
  {
   "cell_type": "code",
   "execution_count": 28,
   "metadata": {},
   "outputs": [],
   "source": [
    "# This utility function will create a bar plot for data visualization\n",
    "def plot_bar_from_dict(dictname,tot_count, title):\n",
    "    '''\n",
    "    INPUT \n",
    "        dictname - a dictionary\n",
    "        tot_count - total count of all records required to calculate percetage \n",
    "        title - title of the bar chart\n",
    "    OUTPUT\n",
    "        bar chart\n",
    "    '''\n",
    "    my_series = pd.Series(dictname) \n",
    "    (my_series/tot_count).plot(kind=\"bar\")\n",
    "    plt.title(title);\n",
    "    "
   ]
  },
  {
   "cell_type": "markdown",
   "metadata": {},
   "source": [
    "###  1. Identify the top 5 most desired Programming Languages for the coming year\n",
    "\n",
    "Using above functions we can easily answer all top N categories. Let's apply this to find the most desirable programming languages."
   ]
  },
  {
   "cell_type": "code",
   "execution_count": 29,
   "metadata": {},
   "outputs": [
    {
     "data": {
      "text/plain": [
       "[('JavaScript', 44739),\n",
       " ('Python', 40006),\n",
       " ('HTML/CSS', 36645),\n",
       " ('SQL', 33566),\n",
       " ('TypeScript', 23720),\n",
       " ('Java', 23508),\n",
       " ('C#', 22449),\n",
       " ('Bash/Shell/PowerShell', 21303),\n",
       " ('Go', 17060),\n",
       " ('C++', 16856)]"
      ]
     },
     "execution_count": 29,
     "metadata": {},
     "output_type": "execute_result"
    }
   ],
   "source": [
    "pref_lang_2020 = create_dict_from_col(df,'LanguageDesireNextYear')  \n",
    "top_5_lang = get_dict_topvals(pref_lang_2020,10,True)\n",
    "top_5_lang    "
   ]
  },
  {
   "cell_type": "code",
   "execution_count": 30,
   "metadata": {},
   "outputs": [
    {
     "data": {
      "image/png": "[encoded data removed]",
      "text/plain": [
       "<Figure size 432x288 with 1 Axes>"
      ]
     },
     "metadata": {
      "needs_background": "light"
     },
     "output_type": "display_data"
    }
   ],
   "source": [
    "plot_bar_from_dict(pref_lang_2020,df.shape[0],\"What are the most preferred Languages?\")"
   ]
  },
  {
   "cell_type": "markdown",
   "metadata": {},
   "source": [
    "### 2. Identify the most desired Database Technology for the coming year.\n",
    "\n",
    "Now find the top database environments desired by the survey responders."
   ]
  },
  {
   "cell_type": "code",
   "execution_count": 16,
   "metadata": {},
   "outputs": [
    {
     "data": {
      "text/plain": [
       "[('PostgreSQL', 26446),\n",
       " ('MySQL', 25750),\n",
       " ('MongoDB', 23667),\n",
       " ('Redis', 17913),\n",
       " ('SQLite', 17807)]"
      ]
     },
     "execution_count": 16,
     "metadata": {},
     "output_type": "execute_result"
    }
   ],
   "source": [
    "pref_db_2020 = create_dict_from_col(df,'DatabaseDesireNextYear') \n",
    "top_5_db = get_dict_topvals(pref_db_2020,5,True)\n",
    "top_5_db"
   ]
  },
  {
   "cell_type": "code",
   "execution_count": 17,
   "metadata": {},
   "outputs": [
    {
     "data": {
      "image/png": "[encoded data removed]",
      "text/plain": [
       "<Figure size 432x288 with 1 Axes>"
      ]
     },
     "metadata": {
      "needs_background": "light"
     },
     "output_type": "display_data"
    }
   ],
   "source": [
    "plot_bar_from_dict(pref_db_2020,df.shape[0],\"What are the most preferred Database Technologies?\")"
   ]
  },
  {
   "cell_type": "markdown",
   "metadata": {},
   "source": [
    "### 3. Identify the most desired Web Framework for the coming year.\n",
    "\n",
    "Now find the top Web Frameworks desired by the survey responders."
   ]
  },
  {
   "cell_type": "code",
   "execution_count": 18,
   "metadata": {},
   "outputs": [
    {
     "data": {
      "text/plain": [
       "[('React.js', 29531),\n",
       " ('Vue.js', 19784),\n",
       " ('Angular/Angular.js', 19622),\n",
       " ('jQuery', 16918),\n",
       " ('ASP.NET', 13495)]"
      ]
     },
     "execution_count": 18,
     "metadata": {},
     "output_type": "execute_result"
    }
   ],
   "source": [
    "pref_web_2020 = create_dict_from_col(df,'WebFrameDesireNextYear') \n",
    "top_5_web = get_dict_topvals(pref_web_2020,5,True)\n",
    "top_5_web"
   ]
  },
  {
   "cell_type": "code",
   "execution_count": 19,
   "metadata": {},
   "outputs": [
    {
     "data": {
      "image/png": "[encoded data removed]",
      "text/plain": [
       "<Figure size 432x288 with 1 Axes>"
      ]
     },
     "metadata": {
      "needs_background": "light"
     },
     "output_type": "display_data"
    }
   ],
   "source": [
    "plot_bar_from_dict(pref_web_2020,df.shape[0],\"What are the most preferred Web Frameworks?\")"
   ]
  },
  {
   "cell_type": "markdown",
   "metadata": {},
   "source": [
    "### 4. Identify the most desired tools/libraries/technology for the coming year.\n",
    "\n",
    "Now find the top tools/libraries/technology desired by the survey responders."
   ]
  },
  {
   "cell_type": "code",
   "execution_count": 20,
   "metadata": {},
   "outputs": [
    {
     "data": {
      "text/plain": [
       "[('Node.js', 31417),\n",
       " ('TensorFlow', 17904),\n",
       " ('.NET Core', 17077),\n",
       " ('.NET', 15833),\n",
       " ('React Native', 14601)]"
      ]
     },
     "execution_count": 20,
     "metadata": {},
     "output_type": "execute_result"
    }
   ],
   "source": [
    "pref_misctech_2020 = create_dict_from_col(df,'MiscTechDesireNextYear') \n",
    "top_5_misctech = get_dict_topvals(pref_misctech_2020,5,True)\n",
    "top_5_misctech"
   ]
  },
  {
   "cell_type": "code",
   "execution_count": 21,
   "metadata": {},
   "outputs": [
    {
     "data": {
      "image/png": "[encoded data removed]",
      "text/plain": [
       "<Figure size 432x288 with 1 Axes>"
      ]
     },
     "metadata": {
      "needs_background": "light"
     },
     "output_type": "display_data"
    }
   ],
   "source": [
    "plot_bar_from_dict(pref_misctech_2020,df.shape[0],\"What are the most preferred Miscelleneous Technology?\")"
   ]
  },
  {
   "cell_type": "code",
   "execution_count": null,
   "metadata": {},
   "outputs": [],
   "source": []
  }
 ],
 "metadata": {
  "kernelspec": {
   "display_name": "Python 3",
   "language": "python",
   "name": "python3"
  },
  "language_info": {
   "codemirror_mode": {
    "name": "ipython",
    "version": 3
   },
   "file_extension": ".py",
   "mimetype": "text/x-python",
   "name": "python",
   "nbconvert_exporter": "python",
   "pygments_lexer": "ipython3",
   "version": "3.7.3"
  }
 },
 "nbformat": 4,
 "nbformat_minor": 2
}
