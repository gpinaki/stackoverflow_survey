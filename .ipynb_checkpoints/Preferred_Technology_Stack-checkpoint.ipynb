{
 "cells": [
  {
   "cell_type": "raw",
   "metadata": {},
   "source": []
  },
  {
   "cell_type": "markdown",
   "metadata": {},
   "source": [
    "# What is the most desirable technology stack in 2020?\n"
   ]
  },
  {
   "cell_type": "markdown",
   "metadata": {},
   "source": [
    "### Business Understanding\n",
    "\n",
    "If you are a seasoned software developer or a newbee who just want to be a software developer, you may want to know answers to the questions like: \n",
    "What are the most preferred programming language to learn in 2020?\n",
    "What are the most preferred database to learn in 2020?\n",
    "What are the most preferred Web Framework to learn in 2020?\n",
    "What are the most preferred other miscellenous technologies to learn in 2020?\n",
    "\n",
    "To answer these questions, I used data from Stackoverflow's 2019 Annual Developer Survey. The survey data covers 88,863 reviews from 213 countries and territories. The survey aims to understand multiple aspects of jobs related to software development and data analytics.\n",
    " "
   ]
  },
  {
   "cell_type": "markdown",
   "metadata": {},
   "source": [
    "### Data Understanding\n",
    "\n",
    "To get started, let's read in the necessary libraries we will need to wrangle our data: pandas and numpy. If we decided to build some basic plots, matplotlib might prove useful as well."
   ]
  },
  {
   "cell_type": "code",
   "execution_count": 35,
   "metadata": {},
   "outputs": [],
   "source": [
    "import numpy as np\n",
    "import pandas as pd\n",
    "import matplotlib.pyplot as plt\n",
    "from sklearn.linear_model import LinearRegression\n",
    "from sklearn.model_selection import train_test_split\n",
    "from sklearn.metrics import r2_score, mean_squared_error\n",
    "import AllTogether as t\n",
    "import seaborn as sns\n",
    "%matplotlib inline\n",
    "from collections import defaultdict\n",
    "import matplotlib.pyplot as plt\n",
    "\n",
    "df = pd.read_csv('./survey_results_public_2019.csv')\n",
    "df.head()"
   ]
  },
  {
   "cell_type": "markdown",
   "metadata": {},
   "source": [
    "Let's focus on our first question: \n",
    "What are the most preferred programming language to learn in 2020? To answer this question we will review the field \n",
    "LanguageDesireNextYear in the dataframe. Let's look into the column more closely."
   ]
  },
  {
   "cell_type": "code",
   "execution_count": 32,
   "metadata": {},
   "outputs": [],
   "source": [
    "df.LanguageDesireNextYear.value_counts()"
   ]
  },
  {
   "cell_type": "code",
   "execution_count": null,
   "metadata": {},
   "outputs": [],
   "source": [
    "# This isn't what I was expecting, it is grouping programming languages together \n",
    "# So one row has more than just one answer.  I write a function to clean it up. \n",
    "# Following function will create a dictionary with all programming languages and counts. \n",
    "# We can use the dictionary to get TOP languages and also do some data visualizations. \n",
    "\n",
    "def create_dict_from_col(schema, column):\n",
    "    '''\n",
    "    INPUT \n",
    "        schema - a dataframe schema name\n",
    "        column - column name with ';' seperator     \n",
    "    OUTPUT\n",
    "        desired_lang_dict - a dictionary with list of category names and their counts\n",
    "    '''\n",
    "    df_new = schema[schema[column].notnull()] # Remove NaN records\n",
    "    desired_lang_dict = {} # Initialize the dict\n",
    "    # Populate the dict\n",
    "    for row in df_new[column].to_list():\n",
    "        languages = row.split(';')\n",
    "        for each_lang in languages:\n",
    "            if each_lang in desired_lang_dict:\n",
    "                desired_lang_dict[each_lang] += 1\n",
    "            else:\n",
    "                desired_lang_dict[each_lang] = 1\n",
    "    return desired_lang_dict"
   ]
  },
  {
   "cell_type": "code",
   "execution_count": 33,
   "metadata": {},
   "outputs": [],
   "source": [
    "# This is a short utility function we can use to get TOP N categories \n",
    "def get_dict_topvals(dict, top_n,is_reverse):\n",
    "    return sorted(dict.items(), key=lambda x: x[1], reverse = is_reverse)[:top_n] "
   ]
  },
  {
   "cell_type": "code",
   "execution_count": 4,
   "metadata": {},
   "outputs": [],
   "source": [
    "# This utility function will create a bar plot for data visualization\n",
    "def plot_bar_from_dict(dictname,tot_count, title):\n",
    "    '''\n",
    "    INPUT \n",
    "        dictname - a dictionary\n",
    "        tot_count - total count of all records required to calculate percetage \n",
    "        title - title of the bar chart\n",
    "    OUTPUT\n",
    "        bar chart\n",
    "    '''\n",
    "    my_series = pd.Series(dictname) \n",
    "    (my_series/tot_count).plot(kind=\"bar\")\n",
    "    plt.title(title);\n",
    "    "
   ]
  },
  {
   "cell_type": "markdown",
   "metadata": {},
   "source": [
    "###  1. Identify the top 5 most desired Programming Languages for the coming year\n",
    "\n",
    "Using above functions we can easily answer all top N categories. Let's apply this to find the most desirable programming languages."
   ]
  },
  {
   "cell_type": "code",
   "execution_count": 5,
   "metadata": {},
   "outputs": [],
   "source": [
    "pref_lang_2020 = create_dict_from_col(df,'LanguageDesireNextYear')  \n",
    "top_5_lang = get_dict_topvals(pref_lang_2020,5,True)\n",
    "top_5_lang    "
   ]
  },
  {
   "cell_type": "code",
   "execution_count": 7,
   "metadata": {},
   "outputs": [],
   "source": [
    "plot_bar_from_dict(pref_lang_2020,df.shape[0],\"What are the most preferred Languages?\")"
   ]
  },
  {
   "cell_type": "markdown",
   "metadata": {},
   "source": [
    "### 2. Identify the most desired Database Technology for the coming year.\n",
    "\n",
    "Now find the top database environments desired by the survey responders."
   ]
  },
  {
   "cell_type": "code",
   "execution_count": 8,
   "metadata": {},
   "outputs": [],
   "source": [
    "pref_db_2020 = create_dict_from_col(df,'DatabaseDesireNextYear') \n",
    "top_5_db = get_dict_topvals(pref_db_2020,5,True)\n",
    "top_5_db"
   ]
  },
  {
   "cell_type": "code",
   "execution_count": 9,
   "metadata": {},
   "outputs": [],
   "source": [
    "plot_bar_from_dict(pref_db_2020,df.shape[0],\"What are the most preferred Database Technologies?\")"
   ]
  },
  {
   "cell_type": "markdown",
   "metadata": {},
   "source": [
    "### 3. Identify the most desired Web Framework for the coming year.\n",
    "\n",
    "Now find the top Web Frameworks desired by the survey responders."
   ]
  },
  {
   "cell_type": "code",
   "execution_count": 12,
   "metadata": {},
   "outputs": [],
   "source": [
    "pref_web_2020 = create_dict_from_col(df,'WebFrameDesireNextYear') \n",
    "top_5_web = get_dict_topvals(pref_web_2020,5,True)\n",
    "top_5_web"
   ]
  },
  {
   "cell_type": "code",
   "execution_count": 13,
   "metadata": {},
   "outputs": [],
   "source": [
    "plot_bar_from_dict(pref_web_2020,df.shape[0],\"What are the most preferred Web Frameworks?\")"
   ]
  },
  {
   "cell_type": "markdown",
   "metadata": {},
   "source": [
    "### 4. Identify the most desired tools/libraries/technology for the coming year.\n",
    "\n",
    "Now find the top tools/libraries/technology desired by the survey responders."
   ]
  },
  {
   "cell_type": "code",
   "execution_count": 14,
   "metadata": {},
   "outputs": [],
   "source": [
    "pref_misctech_2020 = create_dict_from_col(df,'MiscTechDesireNextYear') \n",
    "top_5_misctech = get_dict_topvals(pref_misctech_2020,5,True)\n",
    "top_5_misctech"
   ]
  },
  {
   "cell_type": "code",
   "execution_count": 15,
   "metadata": {},
   "outputs": [],
   "source": [
    "plot_bar_from_dict(pref_misctech_2020,df.shape[0],\"What are the most preferred Miscelleneous Technology?\")"
   ]
  }
 ],
 "metadata": {
  "kernelspec": {
   "display_name": "Python 3",
   "language": "python",
   "name": "python3"
  },
  "language_info": {
   "codemirror_mode": {
    "name": "ipython",
    "version": 3
   },
   "file_extension": ".py",
   "mimetype": "text/x-python",
   "name": "python",
   "nbconvert_exporter": "python",
   "pygments_lexer": "ipython3",
   "version": "3.7.3"
  }
 },
 "nbformat": 4,
 "nbformat_minor": 2
}
